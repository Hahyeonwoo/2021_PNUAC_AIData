{
  "nbformat": 4,
  "nbformat_minor": 0,
  "metadata": {
    "colab": {
      "name": "01_codelab0_colab.ipynb",
      "provenance": [],
      "include_colab_link": true
    },
    "kernelspec": {
      "name": "python3",
      "display_name": "Python 3"
    },
    "language_info": {
      "name": "python"
    }
  },
  "cells": [
    {
      "cell_type": "markdown",
      "metadata": {
        "id": "view-in-github",
        "colab_type": "text"
      },
      "source": [
        "<a href=\"https://colab.research.google.com/github/Hahyeonwoo/2021_PNUAC_AIData/blob/main/01_codelab0_colab.ipynb\" target=\"_parent\"><img src=\"https://colab.research.google.com/assets/colab-badge.svg\" alt=\"Open In Colab\"/></a>"
      ]
    },
    {
      "cell_type": "markdown",
      "metadata": {
        "id": "7W8CuK1KEbe8"
      },
      "source": [
        "# 코랩(Colab)\n",
        "+ Colaboratory의 약어\n",
        "+ 브라우저에서 **Python을 작성하고 실행하는 클라우드 기반의 무료 Jupyter 노트북** 개발 환경 \n",
        "  +  Jupyter 노트북 : 웹브라우저 상에서 코드를 단계적으로 실행해볼 수 있는 프로그램\n",
        "\n",
        "//필기{\n",
        "\n",
        "---아나콘다:파이썬을 운용하기 위해 인프리터와 자주 사용하는 모듈을 함께 배포하기 위한 것\n",
        "\n",
        "but \"코랩\"은 위와 같은 아나콘다 설치 과정을 거치지 않고 사용 가능함 = 웹브라우저에서 설치를 하지 않고 파이썬을 운용 가능한 개발환경\n",
        "\n",
        "특징)\n",
        "\n",
        "1.클라우드 기반:클라우드 기반이며 작성한 모든 자료가 구글 드라이브에 저장이 된다.\n",
        "\n",
        "2.가상 컴퓨터 제공:위 연결을 통해 RAM,디스크등을 할당을 해주어 클라우드내에 가상의 컴퓨터를 제공\n",
        "\n",
        "}\n",
        "\n",
        "+ **GPU를 무료 사용가능**하고 구글드라이브 공유를 이용하여 쉽게 **파일을 공유**\n",
        "  + Processing Unit : 데이터를 읽어 연산처리 기능을 수행\n",
        "    + CPU(Centralized Processing Unit) : 명령어가 입력된 순서대로 데이터를 처리하는 직렬 방식으로 연산\n",
        "    + GPU(Graphic Processing Unit) : 여러 명령을 동시에 처리하는 병렬 연산 방식으로 그래픽 관련 작업이나 많은 정보를 동시에 처리해야 하는 딥러닝 연산 매우 효과적\n",
        "    + NPU(Neural Processing Unit) : 인공지능 모델의 인공신경망 연산을 효율적으로 하기 위해 설계된 프로세서\n",
        "    + TPU(Tensor Processing Unit) : Google에서 제작한 NPU의 이름으로 GPU, CUDA 등보다 빠르고 경제적으로 사용\n",
        "\n",
        "//필기{\n",
        "\n",
        "processing unit:컴퓨터에게 명령을 한 뒤 연산을 담당 하는 것\n",
        "\n",
        "\n",
        "processing unit-\n",
        "\n",
        "                  -GPU\n",
        "\n",
        "                  -CPU\n",
        "\n",
        "                  -NPU\n",
        "\n",
        "                  -TPU\n",
        "\n",
        "-(CPU와GPU)\n",
        "\n",
        "위 둘은 \"processing unit\" 속하며\n",
        "cpu와gpu가 하위 개념이다.\n",
        "cpu는 직렬 방식으로 명령을 순서대로 처리 하는 방면\n",
        "gpu는 병렬 방식으로 여러 명령을 동시에 처리해 그래픽 작업,많은 정보를 다루는 작업에 쓰인다.\n",
        "\n",
        "-(NPU와TPU)\n",
        "\n",
        "위 둘도 마찬가지로 \"processing unit\" 속하며\n",
        "NPU는 cpu,gpu와 다르게 인공지능의 인공신경망 연산을 효율적으로 하기 위해 만들어 졌으며 그런 NPU중 google에서 만든 NPU가 'TPU' 이다\n",
        "\n",
        "\"코랩\"은 이런 GPU와TPU를 제공을 해주기 떄문에 본인의 컴퓨터가 GPU를 보유하고 있지 않아도 연산속도가 빨라질 수 있다.\n",
        "\n",
        "}\n",
        "\n",
        "  "
      ]
    },
    {
      "cell_type": "markdown",
      "metadata": {
        "id": "E7fTv6A2waUw"
      },
      "source": [
        ""
      ]
    },
    {
      "cell_type": "markdown",
      "metadata": {
        "id": "VUH2umwH_Ohh"
      },
      "source": [
        "## 코랩 파일 만들기\n",
        "+ **파일 생성 방법**\n",
        "  + 코랩 사이트에서 새 파일을 만든 후 드라이브에 저장\n",
        "  + 구글 드라이브에서 연결할 앱에 코랩을 선택하여 파일을 만들기 \n",
        "+ **GPU나 TPU 사용**\n",
        "  + 런타임 -> 런타임 유형 변경하기\n",
        "  + 클라우드 환경이고 구글의 자원이 한정되어있기 때문에 GPU와 TPU를 무한정 사용할 수 있는 것은 아님\n",
        "  + GPU는 2개의 Session을 TPU는 1개의 Session을 실행\n",
        "+ **구글 드라이브와 연결하기**\n",
        "  + 왼쪽의 폴더 모양을 눌러 드라이브 마운트 버튼을 누름"
      ]
    },
    {
      "cell_type": "markdown",
      "metadata": {
        "id": "MovXRroGEbgZ"
      },
      "source": [
        "## 셀(Cell)\n"
      ]
    },
    {
      "cell_type": "code",
      "metadata": {
        "id": "VY0baNZQ53Ck",
        "outputId": "428f8635-b36b-4c33-d4b9-945aab31a62e",
        "colab": {
          "base_uri": "https://localhost:8080/"
        }
      },
      "source": [
        "from google.colab import drive\n",
        "drive.mount('/content/drive')"
      ],
      "execution_count": 3,
      "outputs": [
        {
          "output_type": "stream",
          "text": [
            "Mounted at /content/drive\n"
          ],
          "name": "stdout"
        }
      ]
    },
    {
      "cell_type": "markdown",
      "metadata": {
        "id": "Y75r58sM0f37"
      },
      "source": [
        "### **텍스트셀**\n",
        "+ 두 번 클릭 하여이 셀을 편집\n",
        "+ 마크 다운 구문을 사용하여 작성\n",
        "  + 마크 다운은 텍스트 기반의 마크업언어\n",
        "  + README 파일이나 온라인 문서, 혹은 일반 텍스트 편집기로 문서 양식을 편집할 때 사용\n",
        "  * 마크 다운 문법 : <https://colab.research.google.com/notebooks/markdown_guide.ipynb>\n",
        "\n",
        "  //필기{\n",
        "\n",
        "  코랩은 text와code로 나뉘며 단위는 셀 이다 그중 text 셀은 code셀에 대한 설명을 적거나 코랩의 전체적인 문자를 적는데 사용되며 문법은 마크 다운 문법을 사용한다.\n",
        "\n",
        "  }"
      ]
    },
    {
      "cell_type": "markdown",
      "metadata": {
        "id": "4yUT_VJl171q"
      },
      "source": [
        "### **코드셀**\n",
        "+ 코드를 작성하고 실행할 수 있는 대화형 환경\n",
        "+ 셀을 클릭하면 코드 수정 가능\n",
        "+ 코드 실행 \n",
        "  + 코드 왼쪽의 실행 버튼을 누름\n",
        "  + 단축키 'Command+Enter나 Ctrl+Enter'를 사용\n",
        "  + 출력결과를 보여줌\n",
        "\n",
        "  //필기 {\n",
        "\n",
        "파이썬의 문법을 이용하여 코드를 짤 수 있으며 코드를 실행 가능하다\n",
        "밑과 같이 코드 상자를 여러개 사용하면 순차적으로 실행시켜줘야 제대로 작동이 된다.\n",
        "\n",
        "  }"
      ]
    },
    {
      "cell_type": "code",
      "metadata": {
        "colab": {
          "base_uri": "https://localhost:8080/"
        },
        "id": "E7SLRmE_28py",
        "outputId": "5b707dd1-6d4a-4e07-810e-d7592e18f4cb"
      },
      "source": [
        "print('Hello Python!')"
      ],
      "execution_count": 6,
      "outputs": [
        {
          "output_type": "stream",
          "text": [
            "Hello Python!\n"
          ],
          "name": "stdout"
        }
      ]
    },
    {
      "cell_type": "code",
      "metadata": {
        "id": "uOU2g9Rv9pm1",
        "outputId": "d9f1c086-2574-40ac-907c-04d58412ff13",
        "colab": {
          "base_uri": "https://localhost:8080/"
        }
      },
      "source": [
        "print('codelab')"
      ],
      "execution_count": 5,
      "outputs": [
        {
          "output_type": "stream",
          "text": [
            "codelab\n"
          ],
          "name": "stdout"
        }
      ]
    },
    {
      "cell_type": "code",
      "metadata": {
        "id": "8NSbyJYQ-f91"
      },
      "source": [
        "x=10"
      ],
      "execution_count": 11,
      "outputs": []
    },
    {
      "cell_type": "code",
      "metadata": {
        "id": "wt0vB5Mk-i0T"
      },
      "source": [
        "y=20"
      ],
      "execution_count": 13,
      "outputs": []
    },
    {
      "cell_type": "code",
      "metadata": {
        "id": "DEi57U69-nT6",
        "outputId": "6b88186d-a570-4b36-f7e0-8b016647c1e7",
        "colab": {
          "base_uri": "https://localhost:8080/"
        }
      },
      "source": [
        "print(f'{x} , {y}')"
      ],
      "execution_count": 14,
      "outputs": [
        {
          "output_type": "stream",
          "text": [
            "10 , 20\n"
          ],
          "name": "stdout"
        }
      ]
    },
    {
      "cell_type": "markdown",
      "metadata": {
        "id": "mq72xG5C3yT4"
      },
      "source": [
        "### **셀 추가 및 이동**\n",
        "+ **추가** : 셀 사이를 가리킬 때 표시 되는 + CODE 및 + TEXT 버튼을 사용하며 도구 모음에도 있음\n",
        "\n",
        "+ **이동** : 셀을 선택 하고 상단 도구 모음에서 셀 위로 또는 아래 로 셀을 클릭하여 셀을 이동\n",
        " "
      ]
    }
  ]
}